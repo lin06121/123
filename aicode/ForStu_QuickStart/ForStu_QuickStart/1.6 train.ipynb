{
 "cells": [
  {
   "cell_type": "markdown",
   "metadata": {
    "pycharm": {
     "name": "#%% md\n"
    }
   },
   "source": [
    "# 模型训练\n",
    "\n",
    "模型训练一般分为四个步骤：\n",
    "\n",
    "1. 构建数据集。\n",
    "2. 定义神经网络模型。\n",
    "3. 定义超参、损失函数及优化器。\n",
    "4. 输入数据集进行训练与评估。\n",
    "\n",
    "现在我们有了数据集和模型后，可以进行模型的训练与评估。"
   ]
  },
  {
   "cell_type": "markdown",
   "metadata": {
    "pycharm": {
     "name": "#%% md\n"
    }
   },
   "source": [
    "## 构建数据集\n",
    "\n",
    "首先从[数据集 Dataset](https://www.mindspore.cn/tutorials/zh-CN/r2.3/beginner/dataset.html)加载代码，构建数据集。"
   ]
  },
  {
   "cell_type": "code",
   "execution_count": 1,
   "metadata": {
    "pycharm": {
     "name": "#%%\n"
    }
   },
   "outputs": [
    {
     "name": "stdout",
     "output_type": "stream",
     "text": [
      "Downloading data from https://mindspore-website.obs.cn-north-4.myhuaweicloud.com/notebook/datasets/MNIST_Data.zip (10.3 MB)\n",
      "\n",
      "file_sizes: 100%|██████████████████████████| 10.8M/10.8M [00:00<00:00, 13.8MB/s]\n",
      "Extracting zip file...\n",
      "Successfully downloaded / unzipped to ./\n"
     ]
    }
   ],
   "source": [
    "import mindspore\n",
    "from mindspore import nn\n",
    "from mindspore.dataset import vision, transforms\n",
    "from mindspore.dataset import MnistDataset\n",
    "\n",
    "# Download data from open datasets\n",
    "from download import download\n",
    "\n",
    "url = \"https://mindspore-website.obs.cn-north-4.myhuaweicloud.com/\" \\\n",
    "      \"notebook/datasets/MNIST_Data.zip\"\n",
    "path = download(url, \"./\", kind=\"zip\", replace=True)\n",
    "\n",
    "\n",
    "def datapipe(path, batch_size):\n",
    "    image_transforms = [\n",
    "        vision.Rescale(1.0 / 255.0, 0),\n",
    "        vision.Normalize(mean=(0.1307,), std=(0.3081,)),\n",
    "        vision.HWC2CHW()\n",
    "    ]\n",
    "    label_transform = transforms.TypeCast(mindspore.int32)\n",
    "\n",
    "    dataset = MnistDataset(path)\n",
    "    dataset = dataset.map(image_transforms, 'image')\n",
    "    dataset = dataset.map(label_transform, 'label')\n",
    "    dataset = dataset.batch(batch_size)\n",
    "    return dataset\n",
    "\n",
    "train_dataset = datapipe('MNIST_Data/train', batch_size=64)\n",
    "test_dataset = datapipe('MNIST_Data/test', batch_size=64)"
   ]
  },
  {
   "cell_type": "markdown",
   "metadata": {
    "pycharm": {
     "name": "#%% md\n"
    }
   },
   "source": [
    "## 定义神经网络模型\n",
    "\n",
    "从[网络构建](https://www.mindspore.cn/tutorials/zh-CN/r2.3/beginner/model.html)中加载代码，构建一个神经网络模型。"
   ]
  },
  {
   "cell_type": "code",
   "execution_count": 2,
   "metadata": {
    "pycharm": {
     "name": "#%%\n"
    }
   },
   "outputs": [],
   "source": [
    "class Network(nn.Cell):\n",
    "    def __init__(self):\n",
    "        super().__init__()\n",
    "        self.flatten = nn.Flatten()\n",
    "        self.dense_relu_sequential = nn.SequentialCell(\n",
    "            nn.Dense(28*28, 512),\n",
    "            nn.ReLU(),\n",
    "            nn.Dense(512, 512),\n",
    "            nn.ReLU(),\n",
    "            nn.Dense(512, 10)\n",
    "        )\n",
    "\n",
    "    def construct(self, x):\n",
    "        x = self.flatten(x)\n",
    "        logits = self.dense_relu_sequential(x)\n",
    "        return logits\n",
    "\n",
    "model = Network()"
   ]
  },
  {
   "cell_type": "markdown",
   "metadata": {
    "pycharm": {
     "name": "#%% md\n"
    }
   },
   "source": [
    "## 定义超参、损失函数和优化器\n",
    "\n",
    "### 超参\n",
    "\n",
    "超参（Hyperparameters）是可以调整的参数，可以控制模型训练优化的过程，不同的超参数值可能会影响模型训练和收敛速度。\n",
    "\n",
    "- **训练轮次（epoch）**：训练时遍历数据集的次数。\n",
    "\n",
    "- **批次大小（batch size）**：数据集进行分批读取训练，设定每个批次数据的大小。batch size过小，花费时间多，同时梯度震荡严重，不利于收敛；batch size过大，不同batch的梯度方向没有任何变化，容易陷入局部极小值。\n",
    "\n",
    "- **学习率（learning rate）**：如果学习率偏小，会导致收敛的速度变慢，如果学习率偏大，则可能会导致训练不收敛等不可预测的结果。"
   ]
  },
  {
   "cell_type": "code",
   "execution_count": 6,
   "metadata": {
    "pycharm": {
     "name": "#%%\n"
    }
   },
   "outputs": [],
   "source": [
    "epochs = 3\n",
    "batch_size = 64\n",
    "learning_rate = 1e-2"
   ]
  },
  {
   "cell_type": "markdown",
   "metadata": {
    "pycharm": {
     "name": "#%% md\n"
    }
   },
   "source": [
    "### 损失函数\n",
    "\n",
    "常见的损失函数包括用于回归任务的`nn.MSELoss`（均方误差）和用于分类的`nn.CrossEntropyLoss`（它结合了`nn.LogSoftmax`和`nn.NLLLoss`，可以对logits 进行归一化并计算预测误差）。"
   ]
  },
  {
   "cell_type": "code",
   "execution_count": 7,
   "metadata": {
    "pycharm": {
     "name": "#%%\n"
    }
   },
   "outputs": [],
   "source": [
    "loss_fn = nn.CrossEntropyLoss()"
   ]
  },
  {
   "cell_type": "markdown",
   "metadata": {
    "pycharm": {
     "name": "#%% md\n"
    }
   },
   "source": [
    "### 优化器（Optimizer）\n",
    "\n",
    "优化器内部定义了模型的参数优化过程（即梯度如何更新至模型参数），所有优化逻辑都封装在优化器对象中。\n",
    "\n",
    "在这里，我们使用SGD（Stochastic Gradient Descent）优化器举例。\n",
    "\n",
    "我们通过`model.trainable_params()`方法获得模型的可训练参数，并传入学习率超参来初始化优化器。"
   ]
  },
  {
   "cell_type": "code",
   "execution_count": 8,
   "metadata": {
    "pycharm": {
     "name": "#%%\n"
    }
   },
   "outputs": [],
   "source": [
    "optimizer = nn.SGD(model.trainable_params(), learning_rate=learning_rate)"
   ]
  },
  {
   "cell_type": "markdown",
   "metadata": {
    "pycharm": {
     "name": "#%% md\n"
    }
   },
   "source": [
    "> 训练过程中，通过grad_fn计算获得参数对应的梯度，将其传入优化器中即可实现参数优化，具体形态如下：\n",
    ">\n",
    "> grads = grad_fn(inputs)\n",
    ">\n",
    "> optimizer(grads)\n"
   ]
  },
  {
   "cell_type": "markdown",
   "metadata": {
    "pycharm": {
     "name": "#%% md\n"
    }
   },
   "source": [
    "## 训练与评估\n",
    "\n",
    "设置了超参、损失函数和优化器后，我们就可以循环输入数据来训练模型。一次数据集的完整迭代循环称为一轮（epoch）。每轮执行训练时包括两个步骤：\n",
    "\n",
    "1. 训练：迭代训练数据集，并尝试收敛到最佳参数。\n",
    "2. 验证/测试：迭代测试数据集，以检查模型性能是否提升。\n",
    "\n",
    "接下来我们定义用于训练的`train_loop`函数和用于测试的`test_loop`函数。"
   ]
  },
  {
   "cell_type": "markdown",
   "metadata": {
    "pycharm": {
     "name": "#%% md\n"
    }
   },
   "source": [
    "- 先定义正向函数`forward_fn`，使用`value_and_grad`获得微分函数`grad_fn`。\n",
    "- 然后，将微分函数和优化器的执行封装为`train_step`函数，接下来循环迭代数据集进行训练."
   ]
  },
  {
   "cell_type": "code",
   "execution_count": 9,
   "metadata": {
    "pycharm": {
     "name": "#%%\n"
    }
   },
   "outputs": [],
   "source": [
    "# 通过模型计算预测值，通过损失函数计算损失，并返回损失和预测值\n",
    "def forward_fn(data, label):\n",
    "    logits = model(data)\n",
    "    loss = loss_fn(logits, label)\n",
    "    return loss, logits\n",
    "\n",
    "# 同时计算损失和梯度，None不指定特定参数位置，使用第三个参数中的参数列表，has_aux表示只对第一个元素（损失）计算梯度\n",
    "grad_fn = mindspore.value_and_grad(forward_fn, None, optimizer.parameters, has_aux=True)\n",
    "\n",
    "# 计算损失和梯度\n",
    "def train_step(data, label):\n",
    "    (loss, _), grads = grad_fn(data, label) #(loss, _)中的_表示忽略forward_fn返回的第二个值（logits）\n",
    "    optimizer(grads)  #应用SGD优化器，对梯度更新模型参数\n",
    "    return loss\n",
    "\n",
    "def train_loop(model, dataset):\n",
    "    size = dataset.get_dataset_size()\n",
    "    model.set_train()\n",
    "    for batch, (data, label) in enumerate(dataset.create_tuple_iterator()):\n",
    "        loss = train_step(data, label)  #对每个批次调用train_step进行训练\n",
    "\n",
    "        if batch % 100 == 0:  #每100个批次打印一次损失信息\n",
    "            loss, current = loss.asnumpy(), batch\n",
    "            print(f\"loss: {loss:>7f}  [{current:>3d}/{size:>3d}]\")"
   ]
  },
  {
   "cell_type": "markdown",
   "metadata": {
    "pycharm": {
     "name": "#%% md\n"
    }
   },
   "source": [
    "`test_loop`函数同样需循环遍历数据集，调用模型计算loss和Accuray并返回最终结果。"
   ]
  },
  {
   "cell_type": "code",
   "execution_count": 10,
   "metadata": {
    "pycharm": {
     "name": "#%%\n"
    }
   },
   "outputs": [],
   "source": [
    "def test_loop(model, dataset, loss_fn):\n",
    "    num_batches = dataset.get_dataset_size()\n",
    "    model.set_train(False)\n",
    "    total, test_loss, correct = 0, 0, 0\n",
    "    #样本总量、积累测试过程中的损失、记录模型正确预测的样本数量\n",
    "    for data, label in dataset.create_tuple_iterator():\n",
    "        pred = model(data)\n",
    "        total += len(data)\n",
    "        test_loss += loss_fn(pred, label).asnumpy()\n",
    "        correct += (pred.argmax(1) == label).asnumpy().sum()\n",
    "    test_loss /= num_batches  #平均损失\n",
    "    correct /= total        #准确率\n",
    "    print(f\"Test: \\n Accuracy: {(100*correct):>0.1f}%, Avg loss: {test_loss:>8f} \\n\")"
   ]
  },
  {
   "cell_type": "markdown",
   "metadata": {
    "pycharm": {
     "name": "#%% md\n"
    }
   },
   "source": [
    "我们将实例化的损失函数和优化器传入`train_loop`和`test_loop`中。训练3轮并输出loss和Accuracy，查看性能变化。"
   ]
  },
  {
   "cell_type": "code",
   "execution_count": 11,
   "metadata": {
    "pycharm": {
     "name": "#%%\n"
    }
   },
   "outputs": [
    {
     "name": "stdout",
     "output_type": "stream",
     "text": [
      "Epoch 1\n",
      "-------------------------------\n",
      "loss: 2.292444  [  0/938]\n",
      "loss: 1.643636  [100/938]\n",
      "loss: 0.952843  [200/938]\n",
      "loss: 0.652146  [300/938]\n",
      "loss: 0.433956  [400/938]\n",
      "loss: 0.583112  [500/938]\n",
      "loss: 0.254717  [600/938]\n",
      "loss: 0.343774  [700/938]\n",
      "loss: 0.348839  [800/938]\n",
      "loss: 0.574244  [900/938]\n",
      "Test: \n",
      " Accuracy: 91.0%, Avg loss: 0.319791 \n",
      "\n",
      "Epoch 2\n",
      "-------------------------------\n",
      "loss: 0.578773  [  0/938]\n",
      "loss: 0.184648  [100/938]\n",
      "loss: 0.277254  [200/938]\n",
      "loss: 0.300438  [300/938]\n",
      "loss: 0.237972  [400/938]\n",
      "loss: 0.239813  [500/938]\n",
      "loss: 0.196423  [600/938]\n",
      "loss: 0.285938  [700/938]\n",
      "loss: 0.164663  [800/938]\n",
      "loss: 0.465331  [900/938]\n",
      "Test: \n",
      " Accuracy: 92.8%, Avg loss: 0.253174 \n",
      "\n",
      "Epoch 3\n",
      "-------------------------------\n",
      "loss: 0.146422  [  0/938]\n",
      "loss: 0.299450  [100/938]\n",
      "loss: 0.323904  [200/938]\n",
      "loss: 0.192631  [300/938]\n",
      "loss: 0.243253  [400/938]\n",
      "loss: 0.140615  [500/938]\n",
      "loss: 0.408576  [600/938]\n",
      "loss: 0.186512  [700/938]\n",
      "loss: 0.202737  [800/938]\n",
      "loss: 0.240933  [900/938]\n",
      "Test: \n",
      " Accuracy: 93.9%, Avg loss: 0.212907 \n",
      "\n",
      "Done!\n"
     ]
    }
   ],
   "source": [
    "loss_fn = nn.CrossEntropyLoss()\n",
    "optimizer = nn.SGD(model.trainable_params(), learning_rate=learning_rate)\n",
    "\n",
    "for t in range(epochs):\n",
    "    print(f\"Epoch {t+1}\\n-------------------------------\")\n",
    "    train_loop(model, train_dataset)\n",
    "    test_loop(model, test_dataset, loss_fn)\n",
    "print(\"Done!\")"
   ]
  },
  {
   "cell_type": "code",
   "execution_count": null,
   "metadata": {},
   "outputs": [],
   "source": []
  }
 ],
 "metadata": {
  "kernelspec": {
   "display_name": "ms2.4",
   "language": "python",
   "name": "python3"
  },
  "language_info": {
   "codemirror_mode": {
    "name": "ipython",
    "version": 3
   },
   "file_extension": ".py",
   "mimetype": "text/x-python",
   "name": "python",
   "nbconvert_exporter": "python",
   "pygments_lexer": "ipython3",
   "version": "3.9.21"
  }
 },
 "nbformat": 4,
 "nbformat_minor": 4
}
