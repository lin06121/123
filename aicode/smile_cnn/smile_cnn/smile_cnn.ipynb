{
 "cells": [
  {
   "attachments": {},
   "cell_type": "markdown",
   "metadata": {},
   "source": [
    "### CNN卷积\n",
    "- 本demo使用tf 2.8.0"
   ]
  },
  {
   "cell_type": "code",
   "execution_count": null,
   "metadata": {},
   "outputs": [],
   "source": [
    "#import keras\n",
    "from tensorflow import keras\n",
    "import os,shutil\n",
    "from keras import layers\n",
    "from keras import models\n",
    "from keras import optimizers\n",
    " \n",
    "from keras.preprocessing.image import ImageDataGenerator\n",
    " \n",
    "import matplotlib.pyplot as plt\n",
    " \n",
    "keras.__version__"
   ]
  },
  {
   "cell_type": "markdown",
   "metadata": {},
   "source": [
    "#### 加载数据集"
   ]
  },
  {
   "cell_type": "code",
   "execution_count": null,
   "metadata": {},
   "outputs": [],
   "source": [
    "base_dir = '.\\data\\smiledata'\n",
    "train_dir = os.path.join(base_dir, 'train')\n",
    " \n",
    "validation_dir = os.path.join(base_dir, 'validation')\n",
    " \n",
    "train_smile_dir = os.path.join(train_dir, 'smile')\n",
    " \n",
    "train_nosmile_dir = os.path.join(train_dir, 'nosmile')\n",
    " \n",
    "validation_smile_dir = os.path.join(validation_dir, 'smile')\n",
    " \n",
    "validation_nosmile_dir = os.path.join(validation_dir, 'nosmile')\n",
    " \n",
    "print('total training smile images:', len(os.listdir(train_smile_dir)))\n",
    "print('total training nosmile images:', len(os.listdir(train_nosmile_dir)))\n",
    "print('total validation smile images:', len(os.listdir(validation_smile_dir)))\n",
    "print('total validation nosmile images:', len(os.listdir(validation_nosmile_dir)))"
   ]
  },
  {
   "cell_type": "markdown",
   "metadata": {},
   "source": [
    "#### keras搭建模型"
   ]
  },
  {
   "cell_type": "code",
   "execution_count": null,
   "metadata": {},
   "outputs": [],
   "source": [
    "#当前层核的个数对应本层输出feature个数，当前核的厚度对应上一层feature的个数\n",
    "model = models.Sequential()\n",
    "model.add(layers.Conv2D(32, (3, 3), activation='relu',padding='same',input_shape=(150, 150, 3)))\n",
    "model.add(layers.MaxPooling2D((2, 2)))\n",
    "model.add(layers.Conv2D(64, (3, 3), activation='relu',padding='same'))\n",
    "model.add(layers.MaxPooling2D((2, 2)))\n",
    "model.add(layers.Conv2D(128, (3, 3), activation='relu',padding='same'))\n",
    "model.add(layers.MaxPooling2D((2, 2)))\n",
    "model.add(layers.Conv2D(128, (3, 3), activation='relu',padding='same'))\n",
    "model.add(layers.MaxPooling2D((2, 2)))\n",
    "model.add(layers.Flatten())\n",
    "model.add(layers.Dense(512, activation='relu'))\n",
    "model.add(layers.Dense(1, activation='sigmoid'))\n",
    " \n",
    " \n",
    "model.compile(loss='binary_crossentropy',\n",
    "              optimizer='adam',\n",
    "              metrics=['binary_accuracy'])\n",
    " \n",
    "model.summary()"
   ]
  },
  {
   "cell_type": "code",
   "execution_count": null,
   "metadata": {},
   "outputs": [],
   "source": [
    "train_datagen = ImageDataGenerator(rescale=1./255)\n",
    "test_datagen = ImageDataGenerator(rescale=1./255)\n",
    " \n",
    "train_generator = train_datagen.flow_from_directory(\n",
    "        train_dir,\n",
    "        target_size=(150, 150),\n",
    "        batch_size=20,\n",
    "        class_mode='binary')\n",
    " \n",
    "validation_generator = test_datagen.flow_from_directory(\n",
    "        validation_dir,\n",
    "        target_size=(150, 150),\n",
    "        batch_size=20,\n",
    "        class_mode='binary')\n",
    " \n",
    "for data_batch, labels_batch in train_generator:\n",
    "    print('data batch shape:', data_batch.shape)\n",
    "    print('labels batch shape:', labels_batch.shape)\n",
    "    break\n",
    " \n",
    " \n",
    "history = model.fit_generator(\n",
    "      train_generator,\n",
    "      steps_per_epoch=100,\n",
    "      epochs=30,\n",
    "      validation_data=validation_generator,\n",
    "      validation_steps=50)"
   ]
  },
  {
   "cell_type": "markdown",
   "metadata": {},
   "source": [
    "#### plot曲线"
   ]
  },
  {
   "cell_type": "code",
   "execution_count": null,
   "metadata": {},
   "outputs": [],
   "source": [
    "hist = history.history\n",
    "print(hist)\n",
    "plt.plot(hist['loss'],color='r')\n",
    "plt.plot(hist['val_loss'],color='g')\n",
    "plt.plot(hist['binary_accuracy'],color='b')\n",
    "plt.plot(hist['val_binary_accuracy'],color='k')\n",
    "plt.title('model loss and acc')\n",
    "plt.ylabel('loss')\n",
    "plt.xlabel('epoch')\n",
    "plt.legend(['train_loss', 'test_loss','train_acc', 'test_acc'], loc='upper left')\n",
    "plt.show()"
   ]
  },
  {
   "cell_type": "markdown",
   "metadata": {},
   "source": [
    "#### 存储h5模型并将h5转换为pb"
   ]
  },
  {
   "cell_type": "code",
   "execution_count": null,
   "metadata": {},
   "outputs": [],
   "source": [
    "model.save('./data/smile_and_nosmile.h5')"
   ]
  },
  {
   "cell_type": "code",
   "execution_count": null,
   "metadata": {},
   "outputs": [],
   "source": [
    "import tensorflow as tf\n",
    "from tensorflow.python.framework.convert_to_constants import convert_variables_to_constants_v2\n",
    "\n",
    "def h5_to_pb(h5_save_path):\n",
    "    model = tf.keras.models.load_model(h5_save_path, compile=False)\n",
    "    model.summary()\n",
    "    full_model = tf.function(lambda Input: model(Input))\n",
    "    full_model = full_model.get_concrete_function(tf.TensorSpec(model.inputs[0].shape, model.inputs[0].dtype))\n",
    "\n",
    "    # Get frozen ConcreteFunction\n",
    "    frozen_func = convert_variables_to_constants_v2(full_model)\n",
    "    frozen_func.graph.as_graph_def()\n",
    "\n",
    "    layers = [op.name for op in frozen_func.graph.get_operations()]\n",
    "    print(\"-\" * 50)\n",
    "    print(\"Frozen model layers: \")\n",
    "    for layer in layers:\n",
    "        print(layer)\n",
    "\n",
    "    print(\"-\" * 50)\n",
    "    print(\"Frozen model inputs: \")\n",
    "    print(frozen_func.inputs)\n",
    "    print(\"Frozen model outputs: \")\n",
    "    print(frozen_func.outputs)\n",
    "\n",
    "    # Save frozen graph from frozen ConcreteFunction to hard drive\n",
    "    tf.io.write_graph(graph_or_graph_def=frozen_func.graph,\n",
    "                      logdir=\"./pb\",\n",
    "                      name=\"model.pb\",\n",
    "                      as_text=False)   #可设置.pb存储路径\n",
    "\n",
    "\n",
    "h5_to_pb('./data/smile_and_nosmile.h5')   #此处填入.h5路径\n"
   ]
  },
  {
   "cell_type": "markdown",
   "metadata": {},
   "source": [
    "#### 如何用opencv读取pb模型并预测"
   ]
  },
  {
   "cell_type": "code",
   "execution_count": null,
   "metadata": {},
   "outputs": [],
   "source": [
    "import cv2\n",
    "import numpy as np\n",
    "#from cv2.dnn import dnn\n",
    " \n",
    "def get_face_data():\n",
    "    # 加载Haar级联数据文件，用于检测人面\n",
    "    face_casecade=cv2.CascadeClassifier('haarcascade_frontalface_default.xml')\n",
    "    net = cv2.dnn.readNetFromTensorflow('pb/model.pb')\n",
    "    font = cv2.FONT_HERSHEY_SIMPLEX\n",
    "    \n",
    "    camera = cv2.VideoCapture(0)\n",
    "    count = 1\n",
    "    while True:\n",
    "        ret, frame = camera.read()\n",
    "        gray = cv2.cvtColor(frame, cv2.COLOR_BGR2GRAY)\n",
    "        faces = face_casecade.detectMultiScale(gray,1.3,5)\n",
    "       # 画出面部位置\n",
    "        for (x, y, w, h) in faces:\n",
    "             img = cv2.rectangle(frame, (x, y), (x + w, y + h), (255, 0, 0), 2)\n",
    "             # 根据检查的位置截取图片并调整截取后的图片大小\n",
    "             f = cv2.resize(frame[y:y+h, x:x+w], (150, 150))\n",
    "             \n",
    "             img_tensor =  cv2.dnn.blobFromImage(f, 1 / 255.0, (150, 150), swapRB=True, crop=False)             \n",
    "             net.setInput(img_tensor)\n",
    "             \n",
    "             ln = net.getUnconnectedOutLayersNames()\n",
    "             prediction = net.forward(ln)\n",
    "             \n",
    "             if prediction[0][0]<0.5:\n",
    "                result='nosmile'\n",
    "             else:\n",
    "                result='smile'\n",
    "             cv2.putText(frame, result, (x,y), font, 2, (255, 0, 0), 2, cv2.LINE_AA)\n",
    "#             #cv2.imshow('face',f)\n",
    "              \n",
    "             count += 1\n",
    "             \n",
    "        cv2.imshow('pic', frame)\n",
    "        # 停止程序\n",
    "        if cv2.waitKey(120) & 0xff == ord(' '):\n",
    "            break\n",
    "    camera.release()\n",
    "    cv2.destroyAllWindows()\n",
    " \n",
    "if __name__=='__main__':\n",
    "    get_face_data()"
   ]
  }
 ],
 "metadata": {
  "interpreter": {
   "hash": "ff111e2744c1139bd5c96f134eb8312661cc7656bcef79300db64f1bf653f586"
  },
  "kernelspec": {
   "display_name": "Python 3",
   "language": "python",
   "name": "python3"
  },
  "language_info": {
   "codemirror_mode": {
    "name": "ipython",
    "version": 3
   },
   "file_extension": ".py",
   "mimetype": "text/x-python",
   "name": "python",
   "nbconvert_exporter": "python",
   "pygments_lexer": "ipython3",
   "version": "3.8.8"
  }
 },
 "nbformat": 4,
 "nbformat_minor": 2
}
