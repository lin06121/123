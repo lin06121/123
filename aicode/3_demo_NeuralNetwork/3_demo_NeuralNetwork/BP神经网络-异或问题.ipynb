{
 "cells": [
  {
   "cell_type": "code",
   "metadata": {
    "ExecuteTime": {
     "end_time": "2025-03-12T12:01:30.365275Z",
     "start_time": "2025-03-12T12:01:30.361922Z"
    }
   },
   "source": [
    "import numpy as np"
   ],
   "outputs": [],
   "execution_count": 2
  },
  {
   "cell_type": "code",
   "metadata": {
    "ExecuteTime": {
     "end_time": "2025-03-11T13:33:27.163733Z",
     "start_time": "2025-03-11T13:33:27.145123Z"
    }
   },
   "source": [
    "#输入数据\n",
    "X = np.array([[1,0,0],\n",
    "              [1,0,1],\n",
    "              [1,1,0],\n",
    "              [1,1,1]])\n",
    "#标签\n",
    "Y = np.array([[0,1,1,0]])\n",
    "#权值初始化，取值范围-1到1\n",
    "V = np.random.random((3,4))*2-1 \n",
    "W = np.random.random((4,1))*2-1\n",
    "print(V)\n",
    "print(W)\n",
    "#学习率设置\n",
    "lr = 0.11\n",
    "\n",
    "def sigmoid(x):\n",
    "    return 1/(1+np.exp(-x))\n",
    "\n",
    "def dsigmoid(x):  #sigmoid的导数\n",
    "    return x*(1-x)\n",
    "\n",
    "def update():\n",
    "    global X,Y,W,V,lr\n",
    "    \n",
    "    L1 = sigmoid(np.dot(X,V))#隐藏层输出(4,4)\n",
    "    L2 = sigmoid(np.dot(L1,W))#输出层输出(4,1)\n",
    "    \n",
    "    L2_delta = (Y.T - L2)*dsigmoid(L2)\n",
    "    L1_delta = L2_delta.dot(W.T)*dsigmoid(L1)\n",
    "    \n",
    "    W_C = lr*L1.T.dot(L2_delta)\n",
    "    V_C = lr*X.T.dot(L1_delta)\n",
    "    \n",
    "    W = W + W_C\n",
    "    V = V + V_C"
   ],
   "outputs": [
    {
     "name": "stdout",
     "output_type": "stream",
     "text": [
      "[[-0.76946188 -0.60027638 -0.85392394  0.78617289]\n",
      " [-0.24246373 -0.79898804  0.29203499  0.04062343]\n",
      " [ 0.13434092 -0.5335259   0.63164351 -0.11606211]]\n",
      "[[ 0.24996041]\n",
      " [ 0.65710266]\n",
      " [-0.38480584]\n",
      " [ 0.310705  ]]\n"
     ]
    }
   ],
   "execution_count": 3
  },
  {
   "cell_type": "code",
   "metadata": {
    "ExecuteTime": {
     "end_time": "2025-03-11T12:10:37.191482Z",
     "start_time": "2025-03-11T12:10:36.942960Z"
    }
   },
   "source": [
    "for i in range(20000):\n",
    "    update()#更新权值\n",
    "    if i%500==0:\n",
    "        L1 = sigmoid(np.dot(X,V))#隐藏层输出(4,4)\n",
    "        L2 = sigmoid(np.dot(L1,W))#输出层输出(4,1)\n",
    "        print('Error:',np.mean(np.abs(Y.T-L2)))\n",
    "        \n",
    "L1 = sigmoid(np.dot(X,V))#隐藏层输出(4,4)\n",
    "L2 = sigmoid(np.dot(L1,W))#输出层输出(4,1)\n",
    "print(L2)\n",
    "\n",
    "def judge(x):\n",
    "    if x>=0.5:\n",
    "        return 1\n",
    "    else:\n",
    "        return 0\n",
    "\n",
    "for i in map(judge,L2):\n",
    "    print(i)"
   ],
   "outputs": [
    {
     "name": "stdout",
     "output_type": "stream",
     "text": [
      "Error: 0.5007788048690339\n",
      "Error: 0.49875853883814386\n",
      "Error: 0.4959785606521968\n",
      "Error: 0.48433843248431974\n",
      "Error: 0.4492355673477073\n",
      "Error: 0.38874536478565347\n",
      "Error: 0.3219063981489949\n",
      "Error: 0.26493091517435\n",
      "Error: 0.19803373884267123\n",
      "Error: 0.14462215274169007\n",
      "Error: 0.11522451370255066\n",
      "Error: 0.0967435858838225\n",
      "Error: 0.08413762094765458\n",
      "Error: 0.07498101634728468\n",
      "Error: 0.06800776252252429\n",
      "Error: 0.0625021252908765\n",
      "Error: 0.058031111111931655\n",
      "Error: 0.05431784023327238\n",
      "Error: 0.051177034833616554\n",
      "Error: 0.0484799674952935\n",
      "Error: 0.04613434289973458\n",
      "Error: 0.044072199433596776\n",
      "Error: 0.04224233774140732\n",
      "Error: 0.04060541674493422\n",
      "Error: 0.03913068115727075\n",
      "Error: 0.03779371991004895\n",
      "Error: 0.03657489494153775\n",
      "Error: 0.03545821710366708\n",
      "Error: 0.03443052711567095\n",
      "Error: 0.033480888900816005\n",
      "Error: 0.03260013351909562\n",
      "Error: 0.03178051166656294\n",
      "Error: 0.03101542562927437\n",
      "Error: 0.030299220191411576\n",
      "Error: 0.029627017841581046\n",
      "Error: 0.028994587653118433\n",
      "Error: 0.02839824003778333\n",
      "Error: 0.02783474157725809\n",
      "Error: 0.027301245579079498\n",
      "Error: 0.02679523505346749\n",
      "[[0.01795703]\n",
      " [0.97335377]\n",
      " [0.97569281]\n",
      " [0.03635121]]\n",
      "0\n",
      "1\n",
      "1\n",
      "0\n"
     ]
    }
   ],
   "execution_count": 3
  },
  {
   "cell_type": "code",
   "metadata": {
    "jupyter": {
     "is_executing": true
    }
   },
   "source": [],
   "outputs": [],
   "execution_count": null
  },
  {
   "cell_type": "code",
   "execution_count": null,
   "metadata": {},
   "outputs": [],
   "source": []
  }
 ],
 "metadata": {
  "anaconda-cloud": {},
  "kernelspec": {
   "display_name": "Python 3",
   "language": "python",
   "name": "python3"
  },
  "language_info": {
   "codemirror_mode": {
    "name": "ipython",
    "version": 3
   },
   "file_extension": ".py",
   "mimetype": "text/x-python",
   "name": "python",
   "nbconvert_exporter": "python",
   "pygments_lexer": "ipython3",
   "version": "3.7.4"
  }
 },
 "nbformat": 4,
 "nbformat_minor": 1
}
