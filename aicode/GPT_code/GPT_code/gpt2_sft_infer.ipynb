{
 "cells": [
  {
   "cell_type": "code",
   "execution_count": 2,
   "metadata": {},
   "outputs": [
    {
     "name": "stdout",
     "output_type": "stream",
     "text": [
      "Output:\n",
      "----------------------------------------------------------------------------------------------------\n",
      "I need to cancel my order please.\n",
      "Assistant: I'm sorry to hear that. I'm here to help.\n",
      "Assistant: I'm here to help you with any problems you may have.\n",
      "User: I'm sorry to hear that. I'm here to help you with any problems you may have.\n",
      "Assistant: I'm here to help you with any problems you may have.\n",
      "Assistant: I'm here to help you with any problems you may have.\n",
      "Assistant: I'm here to help you with any problems\n"
     ]
    }
   ],
   "source": [
    "from transformers import AutoModelForCausalLM, AutoTokenizer\n",
    "import torch\n",
    "\n",
    "torch_device = \"cuda\" if torch.cuda.is_available() else \"cpu\"\n",
    "path = \"C:\\\\Users\\\\deep\\\\Desktop\\\\demo2025\\\\output\"\n",
    "#path = \"C:\\\\Users\\\\deep\\\\Desktop\\\\demo2025\\\\gpt2\"\n",
    "tokenizer = AutoTokenizer.from_pretrained(path)\n",
    "# to inference from default GPT2 model:\n",
    "model = AutoModelForCausalLM.from_pretrained(path, pad_token_id=tokenizer.eos_token_id).to(torch_device)\n",
    "\n",
    "# to inference from fine-tuned GPT2 model:\n",
    "#model = AutoModelForCausalLM.from_pretrained(path, pad_token_id=tokenizer.eos_token_id).to(torch_device)\n",
    "\n",
    "# what sample text to generate from\n",
    "model_inputs = tokenizer('I need to cancel my order please', return_tensors='pt').to(torch_device)\n",
    "\n",
    "# generate 100 tokens\n",
    "greedy_output = model.generate(**model_inputs, max_new_tokens=100)\n",
    "\n",
    "print(\"Output:\\n\" + 100 * '-')\n",
    "print(tokenizer.decode(greedy_output[0], skip_special_tokens=True))"
   ]
  },
  {
   "cell_type": "code",
   "execution_count": null,
   "metadata": {},
   "outputs": [],
   "source": [
    "from transformers import GPT2LMHeadModel, GPT2Tokenizer, GPT2Config\n",
    "from transformers import TextDataset, DataCollatorForLanguageModeling\n",
    "from transformers import Trainer, TrainingArguments\n",
    "\n",
    "\n",
    "def fine_tune_gpt2(model_name, train_file, output_dir):\n",
    "    # Load GPT-2 model and tokenizer\n",
    "    model = GPT2LMHeadModel.from_pretrained(model_name)\n",
    "    tokenizer = GPT2Tokenizer.from_pretrained(model_name)\n",
    "\n",
    "    # Load training dataset\n",
    "    train_dataset = TextDataset(\n",
    "        tokenizer=tokenizer,\n",
    "        file_path=train_file,\n",
    "        block_size=128)\n",
    "    # Create data collator for language modeling\n",
    "    data_collator = DataCollatorForLanguageModeling(\n",
    "        tokenizer=tokenizer, mlm=False)\n",
    "    # Set training arguments\n",
    "    training_args = TrainingArguments(\n",
    "        output_dir=output_dir,\n",
    "        overwrite_output_dir=True,\n",
    "        num_train_epochs=5,\n",
    "        per_device_train_batch_size=4,\n",
    "        save_steps=10_000,\n",
    "        save_total_limit=2,\n",
    "    )\n",
    "    # Train the model\n",
    "    trainer = Trainer(\n",
    "        model=model,\n",
    "        args=training_args,\n",
    "        data_collator=data_collator,\n",
    "        train_dataset=train_dataset,\n",
    "    )\n",
    "    trainer.train()\n",
    "    # Save the fine-tuned model\n",
    "    model.save_pretrained(output_dir)\n",
    "    tokenizer.save_pretrained(output_dir)\n",
    "\n",
    "\n",
    "# Start fine-tune and save the model to the output directory\n",
    "fine_tune_gpt2(\"gpt2\", \"./mental_health_data.txt\", r\"C:\\Users\\deep\\Desktop\\demo2025\\output\")"
   ]
  }
 ],
 "metadata": {
  "kernelspec": {
   "display_name": "base",
   "language": "python",
   "name": "python3"
  },
  "language_info": {
   "codemirror_mode": {
    "name": "ipython",
    "version": 3
   },
   "file_extension": ".py",
   "mimetype": "text/x-python",
   "name": "python",
   "nbconvert_exporter": "python",
   "pygments_lexer": "ipython3",
   "version": "3.8.8"
  }
 },
 "nbformat": 4,
 "nbformat_minor": 2
}
