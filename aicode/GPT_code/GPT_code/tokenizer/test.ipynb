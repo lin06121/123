{
 "cells": [
  {
   "cell_type": "markdown",
   "metadata": {},
   "source": [
    "### qwen2.5 分词"
   ]
  },
  {
   "cell_type": "code",
   "execution_count": 1,
   "metadata": {},
   "outputs": [
    {
     "name": "stdout",
     "output_type": "stream",
     "text": [
      "151643\n"
     ]
    },
    {
     "data": {
      "text/plain": [
       "(['ä½łå¥½', 'ï¼Į', 'ä¸ĸçķĮ'],\n",
       " b'\\xe4\\xbd\\xa0\\xe5\\xa5\\xbd\\xef\\xbc\\x8c\\xe4\\xb8\\x96\\xe7\\x95\\x8c',\n",
       " [108386, 3837, 99489])"
      ]
     },
     "execution_count": 1,
     "metadata": {},
     "output_type": "execute_result"
    }
   ],
   "source": [
    "# qwen2.5 分词\n",
    "from transformers import AutoTokenizer\n",
    "\n",
    "# 直接使用HuggingFace模型ID在线加载\n",
    "tokenizer = AutoTokenizer.from_pretrained(\n",
    "    \"./qwen2.5/\"\n",
    ")\n",
    "\n",
    "#查看分词器的词表大小\n",
    "print(tokenizer.vocab_size)\n",
    "#查看分词器字节表示\n",
    "a = tokenizer.encode(\"你好，世界\")\n",
    "b = \"你好，世界\".encode(\"utf-8\")\n",
    "s = tokenizer.tokenize(\"你好，世界\")\n",
    "s,b,a"
   ]
  },
  {
   "cell_type": "markdown",
   "metadata": {},
   "source": [
    "### OpenAI tiktoken 分词\n",
    "- https://platform.openai.com/tokenizer"
   ]
  },
  {
   "cell_type": "code",
   "execution_count": null,
   "metadata": {},
   "outputs": [],
   "source": [
    "import tiktoken\n",
    "enc = tiktoken.get_encoding(\"gpt2\")#gpt2, 'cl100k_base'\n",
    "text = '伊朗再打以色列'\n",
    "res = enc.encode(text)\n",
    "print(len(res))\n",
    "b1 = [enc.decode_single_token_bytes(i) for i in res]\n",
    "b2 = [i.encode('utf-8') for i in text]\n",
    "[enc.decode([i]) for i in res]\n",
    "b1, b2"
   ]
  },
  {
   "cell_type": "markdown",
   "metadata": {},
   "source": [
    "### ChatGLM分词"
   ]
  },
  {
   "cell_type": "code",
   "execution_count": 2,
   "metadata": {},
   "outputs": [
    {
     "name": "stdout",
     "output_type": "stream",
     "text": [
      "[b'\\xe4\\xbc\\x8a\\xe6\\x9c\\x97', b'\\xe5\\x86\\x8d', b'\\xe6\\x89\\x93', b'\\xe4\\xbb\\xa5\\xe8\\x89\\xb2\\xe5\\x88\\x97']\n",
      "{'input_ids': [151331, 151333, 107492, 98685, 98646, 110519], 'attention_mask': [1, 1, 1, 1, 1, 1], 'position_ids': [0, 1, 2, 3, 4, 5]}\n"
     ]
    },
    {
     "data": {
      "text/plain": [
       "b'\\xe4\\xbc\\x8a\\xe6\\x9c\\x97\\xe5\\x86\\x8d\\xe6\\x89\\x93\\xe4\\xbb\\xa5\\xe8\\x89\\xb2\\xe5\\x88\\x97'"
      ]
     },
     "execution_count": 2,
     "metadata": {},
     "output_type": "execute_result"
    }
   ],
   "source": [
    "from transformers import AutoTokenizer\n",
    "path = './chatGLM4/'\n",
    "tokenizer_glm = AutoTokenizer.from_pretrained(path,trust_remote_code=True)\n",
    "text = '伊朗再打以色列'\n",
    "print(tokenizer_glm.tokenize(text))\n",
    "print(tokenizer_glm(text))\n",
    "text.encode('utf-8')"
   ]
  },
  {
   "cell_type": "markdown",
   "metadata": {},
   "source": [
    "### Embedding"
   ]
  },
  {
   "cell_type": "code",
   "execution_count": null,
   "metadata": {},
   "outputs": [
    {
     "data": {
      "text/plain": [
       "(torch.Size([64]), torch.Size([1000, 64]))"
      ]
     },
     "execution_count": 5,
     "metadata": {},
     "output_type": "execute_result"
    }
   ],
   "source": [
    "import torch\n",
    "embedding = torch.nn.Embedding(1000,64)\n",
    "t1 = torch.tensor(600)#代表一个token, 1000-->64\n",
    "embedding(t1).shape,embedding.weight.shape"
   ]
  },
  {
   "cell_type": "markdown",
   "metadata": {},
   "source": [
    "### LayerNorm"
   ]
  },
  {
   "cell_type": "code",
   "execution_count": 17,
   "metadata": {},
   "outputs": [
    {
     "name": "stdout",
     "output_type": "stream",
     "text": [
      "tensor([[[-1.2247,  0.0000,  1.2247]]])\n"
     ]
    },
    {
     "data": {
      "text/plain": [
       "tensor([-1.2247,  0.0000,  1.2247])"
      ]
     },
     "execution_count": 17,
     "metadata": {},
     "output_type": "execute_result"
    }
   ],
   "source": [
    "# \n",
    "import torch\n",
    "import torch.nn as nn\n",
    "\n",
    "t = torch.tensor([[1, 2, 3]]).reshape(1, 1, 3).float()\n",
    "ln = nn.LayerNorm(3,elementwise_affine=False)\n",
    "t2 = ln(t)\n",
    "print(t2)\n",
    "mean = t[0][0].mean()\n",
    "var = t[0][0].var(unbiased=False)#总体方差，有偏\n",
    "(t[0][0] - mean) / torch.sqrt(var + 1e-5)"
   ]
  },
  {
   "cell_type": "markdown",
   "metadata": {},
   "source": [
    "### 位置编码"
   ]
  },
  {
   "cell_type": "markdown",
   "metadata": {},
   "source": [
    "$$\n",
    "PE_{(pos,2i)} = sin(pos/10000^{\\frac{2i}{d_{model}}})\n",
    "$$\n",
    "$$\n",
    "PE_{(pos,2i+1)} = cos(pos/10000^{\\frac{2i}{d_{model}}})\n",
    "$$"
   ]
  },
  {
   "cell_type": "markdown",
   "metadata": {},
   "source": [
    "### GELU\n"
   ]
  },
  {
   "cell_type": "code",
   "execution_count": 18,
   "metadata": {},
   "outputs": [
    {
     "data": {
      "image/png": "[encoded data removed]",
      "text/plain": [
       "<Figure size 640x480 with 1 Axes>"
      ]
     },
     "metadata": {},
     "output_type": "display_data"
    },
    {
     "data": {
      "text/plain": [
       "<sympy.plotting.plot.Plot at 0x204e78b44f0>"
      ]
     },
     "execution_count": 18,
     "metadata": {},
     "output_type": "execute_result"
    }
   ],
   "source": [
    "import sympy\n",
    "x = sympy.symbols('x')\n",
    "gelu =  0.5 * x * (1.0 + sympy.tanh(sympy.sqrt(2.0 / sympy.pi) * (x + 0.044715 * x**3)))\n",
    "sympy.plot(gelu)"
   ]
  },
  {
   "cell_type": "markdown",
   "metadata": {},
   "source": [
    "### QK QK为什么不一致"
   ]
  },
  {
   "cell_type": "code",
   "execution_count": 20,
   "metadata": {},
   "outputs": [
    {
     "name": "stdout",
     "output_type": "stream",
     "text": [
      "tensor([[ 0.8161, -1.2876, -0.2348, -0.6623, -0.4647, -1.3142,  0.4187,  2.3720],\n",
      "        [-0.5289,  0.1191,  1.3053, -0.5352, -0.1895,  0.7397, -1.8341, -0.0614],\n",
      "        [-0.4639, -0.7047,  0.8893,  1.6376,  1.1723,  1.1662, -0.1725,  1.4269],\n",
      "        [-0.4444,  0.4654,  0.0529, -1.1771, -0.8652, -0.2758, -0.7846, -1.6108]])\n",
      "tensor([[10.5625, -2.3343,  0.4703, -3.5795],\n",
      "        [-2.3343,  6.2349,  1.3151,  2.4872],\n",
      "        [ 0.4703,  1.3151,  8.9846, -5.5014],\n",
      "        [-3.5795,  2.4872, -5.5014,  5.8372]])\n"
     ]
    },
    {
     "data": {
      "text/plain": [
       "tensor([[9.9996e-01, 1.8414e-04, 2.0044e-04, 7.8583e-05],\n",
       "        [2.5059e-06, 9.6987e-01, 4.6655e-04, 3.3893e-02],\n",
       "        [4.1400e-05, 7.0811e-03, 9.9933e-01, 1.1500e-05],\n",
       "        [7.2140e-07, 2.2863e-02, 5.1112e-07, 9.6602e-01]])"
      ]
     },
     "execution_count": 20,
     "metadata": {},
     "output_type": "execute_result"
    }
   ],
   "source": [
    "# QKV，使用q和q相乘\n",
    "import torch\n",
    "a = torch.randn(4, 8)\n",
    "print(a)\n",
    "s = a @ a.T\n",
    "print(s)\n",
    "torch.nn.functional.softmax(s,0)\n"
   ]
  },
  {
   "cell_type": "markdown",
   "metadata": {},
   "source": [
    "### softmax\n",
    "- 为什么除以 $\\sqrt(d_model)$\n",
    "- 多头的原因\n",
    "- 带温度的softmax"
   ]
  },
  {
   "cell_type": "code",
   "execution_count": 10,
   "metadata": {},
   "outputs": [
    {
     "data": {
      "text/plain": [
       "(tensor(0.0695), tensor(8.7190))"
      ]
     },
     "execution_count": 10,
     "metadata": {},
     "output_type": "execute_result"
    }
   ],
   "source": [
    "mean = 0\n",
    "std = 1\n",
    "t1 = torch.normal(mean=mean, std=std, size=(10,10))\n",
    "t2 = t1 @ t1\n",
    "t2.mean(),t2.var()"
   ]
  },
  {
   "cell_type": "code",
   "execution_count": null,
   "metadata": {},
   "outputs": [],
   "source": [
    "softmax = torch.nn.Softmax(dim=0)\n",
    "t1 = torch.tensor([1, 2, 3]).float()\n",
    "t2 = torch.tensor([10, 20, 30]).float()\n",
    "print(softmax(t1), softmax(t2))"
   ]
  },
  {
   "cell_type": "code",
   "execution_count": 12,
   "metadata": {},
   "outputs": [
    {
     "data": {
      "text/plain": [
       "(tensor([0.0040, 0.9702, 0.0024, 0.0066, 0.0088, 0.0080]),\n",
       " tensor([0.0041, 0.9935, 0.0025]),\n",
       " tensor([0.2820, 0.3769, 0.3410]))"
      ]
     },
     "execution_count": 12,
     "metadata": {},
     "output_type": "execute_result"
    }
   ],
   "source": [
    "softmax = torch.nn.Softmax(dim=0)\n",
    "t = torch.tensor([-0.5,5,-1,0.01,0.3,0.2])\n",
    "softmax(t)\n",
    "t1 = t[0:3]\n",
    "t2 = t[3:]\n",
    "softmax(t),softmax(t1), softmax(t2)"
   ]
  },
  {
   "cell_type": "code",
   "execution_count": 22,
   "metadata": {},
   "outputs": [
    {
     "data": {
      "text/plain": [
       "(tensor([0.8638, 0.1169, 0.0193]), tensor([0.6590, 0.2424, 0.0986]))"
      ]
     },
     "execution_count": 22,
     "metadata": {},
     "output_type": "execute_result"
    }
   ],
   "source": [
    "import torch\n",
    "import torch.nn.functional as F\n",
    "\n",
    "def temperature_softmax(logits, temperature=1.0):\n",
    "    # 调整 logits 的温度\n",
    "    scaled_logits = logits / temperature\n",
    "    # 应用 Softmax\n",
    "    return F.softmax(scaled_logits, dim=-1)\n",
    "\n",
    "# 示例\n",
    "logits = torch.tensor([2.0, 1.0, 0.1])  # 示例输入\n",
    "t1 = 0.5  # 温度参数\n",
    "t2 = 1.0  # 温度参数\n",
    "\n",
    "# 计算带温度的 Softmax\n",
    "    \n",
    "temperature_softmax(logits, t1),temperature_softmax(logits, t2)"
   ]
  },
  {
   "cell_type": "code",
   "execution_count": null,
   "metadata": {},
   "outputs": [],
   "source": [
    "torch.triu(torch.ones(6,6), diagonal=1)"
   ]
  }
 ],
 "metadata": {
  "kernelspec": {
   "display_name": "qwen",
   "language": "python",
   "name": "python3"
  },
  "language_info": {
   "codemirror_mode": {
    "name": "ipython",
    "version": 3
   },
   "file_extension": ".py",
   "mimetype": "text/x-python",
   "name": "python",
   "nbconvert_exporter": "python",
   "pygments_lexer": "ipython3",
   "version": "3.9.18"
  }
 },
 "nbformat": 4,
 "nbformat_minor": 2
}
