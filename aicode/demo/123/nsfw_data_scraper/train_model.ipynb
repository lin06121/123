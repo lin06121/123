{
 "cells": [
  {
   "cell_type": "code",
   "metadata": {
    "ExecuteTime": {
     "end_time": "2025-05-27T13:59:21.378746Z",
     "start_time": "2025-05-27T13:59:21.204855Z"
    }
   },
   "source": [
    "%reload_ext autoreload\n",
    "%autoreload 2\n",
    "from glob import glob\n",
    "from fastai.vision import *"
   ],
   "outputs": [],
   "execution_count": 6
  },
  {
   "cell_type": "markdown",
   "metadata": {},
   "source": [
    "## Resnet 34"
   ]
  },
  {
   "cell_type": "code",
   "metadata": {
    "ExecuteTime": {
     "end_time": "2025-05-27T14:09:23.602152Z",
     "start_time": "2025-05-27T14:09:23.422316Z"
    }
   },
   "source": [
    "path = Path('data')"
   ],
   "outputs": [
    {
     "ename": "NameError",
     "evalue": "name 'Path' is not defined",
     "output_type": "error",
     "traceback": [
      "\u001B[1;31m---------------------------------------------------------------------------\u001B[0m",
      "\u001B[1;31mNameError\u001B[0m                                 Traceback (most recent call last)",
      "Cell \u001B[1;32mIn[10], line 1\u001B[0m\n\u001B[1;32m----> 1\u001B[0m path \u001B[38;5;241m=\u001B[39m \u001B[43mPath\u001B[49m(\u001B[38;5;124m'\u001B[39m\u001B[38;5;124mdata\u001B[39m\u001B[38;5;124m'\u001B[39m)\n",
      "\u001B[1;31mNameError\u001B[0m: name 'Path' is not defined"
     ]
    }
   ],
   "execution_count": 10
  },
  {
   "cell_type": "code",
   "metadata": {
    "ExecuteTime": {
     "end_time": "2025-05-27T14:09:19.176641Z",
     "start_time": "2025-05-27T14:09:18.996090Z"
    }
   },
   "source": [
    "glob(str(path/'*'))"
   ],
   "outputs": [
    {
     "ename": "NameError",
     "evalue": "name 'path' is not defined",
     "output_type": "error",
     "traceback": [
      "\u001B[1;31m---------------------------------------------------------------------------\u001B[0m",
      "\u001B[1;31mNameError\u001B[0m                                 Traceback (most recent call last)",
      "Cell \u001B[1;32mIn[9], line 1\u001B[0m\n\u001B[1;32m----> 1\u001B[0m glob(\u001B[38;5;28mstr\u001B[39m(\u001B[43mpath\u001B[49m\u001B[38;5;241m/\u001B[39m\u001B[38;5;124m'\u001B[39m\u001B[38;5;124m*\u001B[39m\u001B[38;5;124m'\u001B[39m))\n",
      "\u001B[1;31mNameError\u001B[0m: name 'path' is not defined"
     ]
    }
   ],
   "execution_count": 9
  },
  {
   "cell_type": "code",
   "metadata": {
    "ExecuteTime": {
     "end_time": "2025-05-27T13:58:58.317887Z",
     "start_time": "2025-05-27T13:58:58.236974Z"
    }
   },
   "source": [
    "# Uncomment if you want to check for corrupted images and remove them\n",
    "\n",
    "# train_subdirs = glob(str(path/'train/*'))\n",
    "# test_subdirs = glob(str(path/'test/*'))\n",
    "\n",
    "# for subdir in train_subdirs:\n",
    "#     print(subdir)\n",
    "#     verify_images(subdir, delete=True)\n",
    "\n",
    "# for subdir in test_subdirs:\n",
    "#     print(subdir)\n",
    "#     verify_images(subdir, delete=True)"
   ],
   "outputs": [],
   "execution_count": 3
  },
  {
   "cell_type": "code",
   "metadata": {
    "ExecuteTime": {
     "end_time": "2025-05-27T14:09:11.990602Z",
     "start_time": "2025-05-27T14:09:11.788312Z"
    }
   },
   "source": [
    "data = ImageDataBunch.from_folder(path, \n",
    "                                  train='train', \n",
    "                                  valid='test',\n",
    "                                  num_workers=12,\n",
    "                                  ds_tfms=get_transforms(), \n",
    "                                  size=224).normalize(imagenet_stats)\n",
    "# data.show_batch(rows=4)"
   ],
   "outputs": [
    {
     "ename": "NameError",
     "evalue": "name 'ImageDataBunch' is not defined",
     "output_type": "error",
     "traceback": [
      "\u001B[1;31m---------------------------------------------------------------------------\u001B[0m",
      "\u001B[1;31mNameError\u001B[0m                                 Traceback (most recent call last)",
      "Cell \u001B[1;32mIn[8], line 1\u001B[0m\n\u001B[1;32m----> 1\u001B[0m data \u001B[38;5;241m=\u001B[39m \u001B[43mImageDataBunch\u001B[49m\u001B[38;5;241m.\u001B[39mfrom_folder(path, \n\u001B[0;32m      2\u001B[0m                                   train\u001B[38;5;241m=\u001B[39m\u001B[38;5;124m'\u001B[39m\u001B[38;5;124mtrain\u001B[39m\u001B[38;5;124m'\u001B[39m, \n\u001B[0;32m      3\u001B[0m                                   valid\u001B[38;5;241m=\u001B[39m\u001B[38;5;124m'\u001B[39m\u001B[38;5;124mtest\u001B[39m\u001B[38;5;124m'\u001B[39m,\n\u001B[0;32m      4\u001B[0m                                   num_workers\u001B[38;5;241m=\u001B[39m\u001B[38;5;241m12\u001B[39m,\n\u001B[0;32m      5\u001B[0m                                   ds_tfms\u001B[38;5;241m=\u001B[39mget_transforms(), \n\u001B[0;32m      6\u001B[0m                                   size\u001B[38;5;241m=\u001B[39m\u001B[38;5;241m224\u001B[39m)\u001B[38;5;241m.\u001B[39mnormalize(imagenet_stats)\n\u001B[0;32m      7\u001B[0m \u001B[38;5;66;03m# data.show_batch(rows=4)\u001B[39;00m\n",
      "\u001B[1;31mNameError\u001B[0m: name 'ImageDataBunch' is not defined"
     ]
    }
   ],
   "execution_count": 8
  },
  {
   "cell_type": "code",
   "execution_count": null,
   "metadata": {},
   "outputs": [],
   "source": [
    "learn = cnn_learner(data, models.resnet34, metrics=accuracy)\n",
    "learn.fit_one_cycle(5)"
   ]
  },
  {
   "cell_type": "code",
   "execution_count": null,
   "metadata": {},
   "outputs": [],
   "source": [
    "learn.unfreeze()\n",
    "learn.fit_one_cycle(5, slice(1e-5,3e-4), pct_start=0.05)"
   ]
  },
  {
   "cell_type": "code",
   "execution_count": null,
   "metadata": {},
   "outputs": [],
   "source": [
    "accuracy(*learn.TTA())"
   ]
  },
  {
   "cell_type": "code",
   "execution_count": null,
   "metadata": {},
   "outputs": [],
   "source": [
    "learn.save(\"resnet34_model\", return_path=True)"
   ]
  },
  {
   "cell_type": "code",
   "execution_count": null,
   "metadata": {},
   "outputs": [],
   "source": [
    "interp = ClassificationInterpretation.from_learner(learn)"
   ]
  },
  {
   "cell_type": "code",
   "execution_count": null,
   "metadata": {},
   "outputs": [],
   "source": [
    "interp.plot_confusion_matrix()"
   ]
  }
 ],
 "metadata": {
  "kernelspec": {
   "display_name": "Python 3",
   "language": "python",
   "name": "python3"
  },
  "language_info": {
   "codemirror_mode": {
    "name": "ipython",
    "version": 3
   },
   "file_extension": ".py",
   "mimetype": "text/x-python",
   "name": "python",
   "nbconvert_exporter": "python",
   "pygments_lexer": "ipython3",
   "version": "3.7.3"
  }
 },
 "nbformat": 4,
 "nbformat_minor": 2
}
